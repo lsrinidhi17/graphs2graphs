{
 "cells": [
  {
   "cell_type": "code",
   "execution_count": 1,
   "metadata": {
    "colab": {},
    "colab_type": "code",
    "id": "hkjerR_G0f-e"
   },
   "outputs": [],
   "source": [
    "import numpy as np\n",
    "import pandas as pd"
   ]
  },
  {
   "cell_type": "code",
   "execution_count": 0,
   "metadata": {
    "colab": {},
    "colab_type": "code",
    "id": "hr_pEudV1iFX"
   },
   "outputs": [],
   "source": [
    "def tupletoDict(tup, di): \n",
    "    for a, b in tup: \n",
    "        di.setdefault(a, []).append(b) \n",
    "    return di "
   ]
  },
  {
   "cell_type": "code",
   "execution_count": 0,
   "metadata": {
    "colab": {},
    "colab_type": "code",
    "id": "0CTIppvu0f-n"
   },
   "outputs": [],
   "source": [
    "def graph_list2dict(graph, num_nodes):\n",
    "    \"\"\"\n",
    "    Argumnents:\n",
    "        graph     a list representation of the graph g where each entry\n",
    "                  in the list is a tuple of (from,to) edges in the graph\n",
    "        num_nodes  the number of nodes; each node will be labeled from\n",
    "                   0 to num_nodes-1\n",
    "\n",
    "    Returns:\n",
    "        a dictionary where the key to each entry is the from\n",
    "        node and the values are the edges to other nodes\n",
    "    \"\"\"\n",
    "    dictionary = {} \n",
    "    return (tupletoDict(graph, dictionary)) "
   ]
  },
  {
   "cell_type": "code",
   "execution_count": 0,
   "metadata": {
    "colab": {},
    "colab_type": "code",
    "id": "nTFt_z6g0f-j"
   },
   "outputs": [],
   "source": [
    "def graph_list2matrix(graph, num_nodes):\n",
    "    \"\"\"\n",
    "    Arguments:\n",
    "        graph   a list representation of the graph g where each entry\n",
    "                 in the list is a tuple of (from,to) edges in the graph\n",
    "        num_nodes  the number of nodes; each node will be labeled from\n",
    "                    0 to num_nodes-1\n",
    "\n",
    "    Returns:\n",
    "        a numpy matrix where entries (i,j) represent edges from\n",
    "        node i to node j\n",
    "    \"\"\"\n",
    "    matrix = []\n",
    "    for i in range(0, num_nodes):\n",
    "      matrix.append([0]*num_nodes)\n",
    "   \n",
    "    dictionary = graph_list2dict(graph,num_nodes)\n",
    "    \n",
    "    for key,values in dictionary.items():\n",
    "      for i in values:\n",
    "       matrix[key][i]=1\n",
    "    return matrix\n"
   ]
  },
  {
   "cell_type": "code",
   "execution_count": 0,
   "metadata": {
    "colab": {},
    "colab_type": "code",
    "id": "UN8fidaF0f-u"
   },
   "outputs": [],
   "source": [
    "def graph_dict2list(graph, num_nodes):\n",
    "  list1 = [] \n",
    "  for key,values in graph.items():\n",
    "   for value in values:\n",
    "    pair = (key,value)\n",
    "    list1.append(pair)\n",
    "  return list1"
   ]
  },
  {
   "cell_type": "code",
   "execution_count": 0,
   "metadata": {
    "colab": {},
    "colab_type": "code",
    "id": "Cxen8qQe0f-w"
   },
   "outputs": [],
   "source": [
    "def graph_dict2matrix(graph, num_nodes):\n",
    "    \"\"\"\n",
    "    Arguments:\n",
    "        graph   a dictionary where the key to each entry is the from\n",
    "                node and the values are the edges to other nodes\n",
    "        num_nodes  the number of nodes; each node will be labeled from\n",
    "                    0 to num_nodes-1\n",
    "\n",
    "    Returns:\n",
    "        a numpy matrix where entries (i,j) represent edges from\n",
    "        node i to node j\n",
    "    \"\"\"\n",
    "    list1 = graph_dict2list(graph,num_nodes)\n",
    "    return graph_list2matrix(list1,num_nodes)\n"
   ]
  },
  {
   "cell_type": "code",
   "execution_count": 0,
   "metadata": {
    "colab": {},
    "colab_type": "code",
    "id": "V7MHN1TD0f-s"
   },
   "outputs": [],
   "source": [
    "def graph_matrix2dict(graph, num_nodes):\n",
    "  dictionary={}\n",
    "  for i in range(num_nodes):\n",
    "    list1=[]\n",
    "    for j in range(num_nodes):\n",
    "      if graph[i][j]==1:\n",
    "        list1.append(j)\n",
    "        dictionary[i]=list1\n",
    "  return dictionary   "
   ]
  },
  {
   "cell_type": "code",
   "execution_count": 0,
   "metadata": {
    "colab": {},
    "colab_type": "code",
    "id": "SH00Peh_0f-q"
   },
   "outputs": [],
   "source": [
    "def graph_matrix2list(graph, num_nodes):\n",
    "  dictionary = graph_matrix2dict(graph, num_nodes)\n",
    "  return graph_dict2list(dictionary,num_nodes)"
   ]
  }
 ],
 "metadata": {
  "colab": {
   "collapsed_sections": [],
   "name": "Graphs.ipynb",
   "provenance": []
  },
  "kernelspec": {
   "display_name": "Python 3",
   "language": "python",
   "name": "python3"
  },
  "language_info": {
   "codemirror_mode": {
    "name": "ipython",
    "version": 3
   },
   "file_extension": ".py",
   "mimetype": "text/x-python",
   "name": "python",
   "nbconvert_exporter": "python",
   "pygments_lexer": "ipython3",
   "version": "3.7.6"
  }
 },
 "nbformat": 4,
 "nbformat_minor": 1
}
